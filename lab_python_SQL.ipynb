{
 "cells": [
  {
   "cell_type": "code",
   "execution_count": null,
   "id": "819e5d14",
   "metadata": {},
   "outputs": [],
   "source": [
    "# 1 & 2\n",
    "\n",
    "import pandas as pd\n",
    "from sqlalchemy import create_engine, text\n",
    "\n",
    "def rentals_month(engine, month: int, year: int) -> pd.DataFrame:\n",
    "    \"\"\"\n",
    "    Retrieves rental data for a given month and year from the Sakila database.\n",
    "\n",
    "    Parameters:\n",
    "        engine: SQLAlchemy engine object connected to the Sakila database.\n",
    "        month (int): The month (1-12) for which rental data should be retrieved.\n",
    "        year (int): The year for which rental data should be retrieved.\n",
    "\n",
    "    Returns:\n",
    "        pd.DataFrame: DataFrame containing the rental data for the given month/year.\n",
    "    \"\"\"\n",
    "    \n",
    "    query = text(\"\"\"\n",
    "        SELECT r.rental_id,\n",
    "               r.rental_date,\n",
    "               r.inventory_id,\n",
    "               r.customer_id,\n",
    "               r.return_date,\n",
    "               r.staff_id\n",
    "        FROM rental r\n",
    "        WHERE EXTRACT(MONTH FROM r.rental_date) = :month\n",
    "          AND EXTRACT(YEAR FROM r.rental_date) = :year\n",
    "    \"\"\")\n",
    "    \n",
    "    with engine.connect() as conn:\n",
    "        df = pd.read_sql(query, conn, params={\"month\": month, \"year\": year})\n",
    "    \n",
    "    return df\n"
   ]
  },
  {
   "cell_type": "code",
   "execution_count": 6,
   "id": "6709a769",
   "metadata": {},
   "outputs": [],
   "source": [
    "\n",
    "import pandas as pd\n",
    "import pymysql\n",
    "from sqlalchemy import create_engine, text\n",
    "\n",
    "from getpass import getpass"
   ]
  },
  {
   "cell_type": "code",
   "execution_count": 8,
   "id": "42c1ef3a",
   "metadata": {},
   "outputs": [],
   "source": [
    "pwd = getpass()\n",
    "USER = \"root\"\n",
    "HOST = \"localhost\"  \n",
    "BD = \"sakila\""
   ]
  },
  {
   "cell_type": "code",
   "execution_count": 9,
   "id": "863482d5",
   "metadata": {},
   "outputs": [],
   "source": [
    "con_url = f\"mysql+pymysql://{USER}:{pwd}@{HOST}/{BD}\"\n",
    "\n",
    "engine = create_engine(con_url)"
   ]
  },
  {
   "cell_type": "code",
   "execution_count": 10,
   "id": "2559b09f",
   "metadata": {},
   "outputs": [],
   "source": [
    "# 3\n",
    "\n",
    "def rental_count_month(df: pd.DataFrame, month: int, year: int) -> pd.DataFrame:\n",
    "    \"\"\"\n",
    "    Counts the number of rentals per customer for a given month and year.\n",
    "\n",
    "    Parameters:\n",
    "        df (pd.DataFrame): DataFrame returned by rentals_month().\n",
    "        month (int): The month for which rentals are counted.\n",
    "        year (int): The year for which rentals are counted.\n",
    "\n",
    "    Returns:\n",
    "        pd.DataFrame: DataFrame with customer_id and their rental count,\n",
    "                      with the rental count column named 'rentals_MM_YYYY'.\n",
    "    \"\"\"\n",
    "\n",
    "    # Format the month with leading zero (e.g., 05)\n",
    "    month_str = f\"{month:02d}\"\n",
    "    col_name = f\"rentals_{month_str}_{year}\"\n",
    "\n",
    "    # Group by customer_id and count rentals\n",
    "    rental_counts = (\n",
    "        df.groupby(\"customer_id\")\n",
    "          .size()\n",
    "          .reset_index(name=col_name)\n",
    "    )\n",
    "\n",
    "    return rental_counts\n"
   ]
  },
  {
   "cell_type": "code",
   "execution_count": 11,
   "id": "a87123e0",
   "metadata": {},
   "outputs": [
    {
     "name": "stdout",
     "output_type": "stream",
     "text": [
      "   customer_id  rentals_05_2005\n",
      "0            1                2\n",
      "1            2                1\n",
      "2            3                2\n",
      "3            5                3\n",
      "4            6                3\n"
     ]
    }
   ],
   "source": [
    "# Have an engine and imported rentals_month\n",
    "# Rentals for May 2005\n",
    "df_may = rentals_month(engine, 5, 2005)\n",
    "\n",
    "# Count rentals per customer\n",
    "rental_counts_may = rental_count_month(df_may, 5, 2005)\n",
    "print(rental_counts_may.head())"
   ]
  },
  {
   "cell_type": "code",
   "execution_count": 12,
   "id": "845c8ab0",
   "metadata": {},
   "outputs": [],
   "source": [
    "# 4 \n",
    "\n",
    "def compare_rentals(df1: pd.DataFrame, df2: pd.DataFrame) -> pd.DataFrame:\n",
    "    \"\"\"\n",
    "    Compares rental counts between two months.\n",
    "\n",
    "    Parameters:\n",
    "        df1 (pd.DataFrame): DataFrame with rental counts for the first month (from rental_count_month).\n",
    "        df2 (pd.DataFrame): DataFrame with rental counts for the second month (from rental_count_month).\n",
    "\n",
    "    Returns:\n",
    "        pd.DataFrame: Combined DataFrame with customer_id, rental counts for both months,\n",
    "                      and a 'difference' column (df2 - df1).\n",
    "    \"\"\"\n",
    "    \n",
    "    # Merge on customer_id (inner join ensures only customers active in both months)\n",
    "    merged = pd.merge(df1, df2, on=\"customer_id\", how=\"inner\")\n",
    "\n",
    "    # Identify rental count columns (they are the second and third columns)\n",
    "    col1 = merged.columns[1]\n",
    "    col2 = merged.columns[2]\n",
    "\n",
    "    # Add difference column\n",
    "    merged[\"difference\"] = merged[col2] - merged[col1]\n",
    "\n",
    "    return merged\n"
   ]
  },
  {
   "cell_type": "code",
   "execution_count": 13,
   "id": "f1647f5a",
   "metadata": {},
   "outputs": [
    {
     "name": "stdout",
     "output_type": "stream",
     "text": [
      "   customer_id  rentals_05_2005  rentals_06_2005  difference\n",
      "0            1                2                7           5\n",
      "1            2                1                1           0\n",
      "2            3                2                4           2\n",
      "3            5                3                5           2\n",
      "4            6                3                4           1\n"
     ]
    }
   ],
   "source": [
    "# Rentals for May and June 2005\n",
    "df_may = rentals_month(engine, 5, 2005)\n",
    "df_june = rentals_month(engine, 6, 2005)\n",
    "\n",
    "# Counts\n",
    "counts_may = rental_count_month(df_may, 5, 2005)\n",
    "counts_june = rental_count_month(df_june, 6, 2005)\n",
    "\n",
    "# Compare\n",
    "comparison = compare_rentals(counts_may, counts_june)\n",
    "print(comparison.head())"
   ]
  }
 ],
 "metadata": {
  "kernelspec": {
   "display_name": "base",
   "language": "python",
   "name": "python3"
  },
  "language_info": {
   "codemirror_mode": {
    "name": "ipython",
    "version": 3
   },
   "file_extension": ".py",
   "mimetype": "text/x-python",
   "name": "python",
   "nbconvert_exporter": "python",
   "pygments_lexer": "ipython3",
   "version": "3.12.2"
  }
 },
 "nbformat": 4,
 "nbformat_minor": 5
}
